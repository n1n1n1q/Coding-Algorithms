{
 "cells": [
  {
   "cell_type": "markdown",
   "metadata": {},
   "source": [
    "### Лабораторна робота №2: \"Імплементація алгоритмів стиснення\"\n",
    "\n",
    "Склад команди та розподіл виконаних завдань:\n",
    "\n",
    "-\n",
    "-\n",
    "\n",
    "Для кожного з алгоритмів поданих нижче\n",
    "- опишіть як працює алгорит\n",
    "- напишіть класи з методами encode та decode\n",
    "- перевірте правильність кодування та декодування\n",
    "- дослідіть час виконання коду в залежності від розмірів вхідних даних\n",
    "- оцініть ступінь стиснення(у відсотка) в залежності від розмірів\n",
    "- напишіть висновок про ефективність різних алгоритмів та умови за яких той чи інший алгоритм дають кращий результат\n"
   ]
  },
  {
   "cell_type": "markdown",
   "metadata": {},
   "source": [
    "# Допоміжне"
   ]
  },
  {
   "cell_type": "code",
   "execution_count": 12,
   "metadata": {},
   "outputs": [],
   "source": [
    "import matplotlib.pyplot as plt\n",
    "import time\n",
    "import random\n",
    "from tqdm import tqdm"
   ]
  },
  {
   "cell_type": "code",
   "execution_count": 10,
   "metadata": {},
   "outputs": [],
   "source": [
    "with open(\"/home/oleh/programming/Coding-Algorithms/eneida.txt\",'r',encoding='utf-8') as f:\n",
    "    eneida=f.read()\n",
    "SYMBOLS=\"ABCDEFGHIJKLMNOPQRSTUVWXYZabcdefghijklmnopqrstuvwxyz1234567890 \""
   ]
  },
  {
   "cell_type": "code",
   "execution_count": 13,
   "metadata": {},
   "outputs": [
    {
     "data": {
      "text/plain": [
       "'h GVDeeRGY'"
      ]
     },
     "execution_count": 13,
     "metadata": {},
     "output_type": "execute_result"
    }
   ],
   "source": [
    "def random_generated_sequence(symbols, length):\n",
    "    return ''.join(random.choice(symbols) for _ in range(length))\n",
    "random_generated_sequence(SYMBOLS, 10)"
   ]
  },
  {
   "cell_type": "code",
   "execution_count": 8,
   "metadata": {},
   "outputs": [],
   "source": [
    "def test_multiple(functions,VALS,ITERATIONS,symbols,names):\n",
    "    time_list=[[0] for _ in range(len(functions))]\n",
    "    for value in tqdm(VALS):\n",
    "        tmp_time=[0 for _ in range(len(functions))]\n",
    "        for _ in range(ITERATIONS):\n",
    "            tmp_graph=random_generated_sequence(symbols,value)\n",
    "            for func in functions:\n",
    "                start=time.time()\n",
    "                func(tmp_graph)\n",
    "                tmp_time[functions.index(func)]+=time.time()-start\n",
    "        for i, val in enumerate(tmp_time):\n",
    "            time_list[i].append(val/ITERATIONS)\n",
    "            \n",
    "    lines=[]\n",
    "    VALS=[0]+VALS\n",
    "    plt.xlabel('Values')\n",
    "    plt.ylabel('Runtime')\n",
    "    print(time_list[0])\n",
    "    print(VALS)\n",
    "    for i in range(len(functions)):\n",
    "        plt.plot(VALS,time_list[i],label=names[i])\n",
    "    plt.legend()\n",
    "    plt.xticks(VALS)\n",
    "    plt.show()"
   ]
  },
  {
   "cell_type": "markdown",
   "metadata": {},
   "source": [
    "# Алгоритм Гаффмана"
   ]
  },
  {
   "cell_type": "code",
   "execution_count": 2,
   "metadata": {},
   "outputs": [],
   "source": [
    "\"\"\"\n",
    "Huffman coding algorithm\n",
    "\"\"\"\n",
    "from heapq import heappush, heappop\n",
    "class Node:\n",
    "    \"\"\"\n",
    "    Node class\n",
    "    \"\"\"\n",
    "    def __init__(self, freq, char, left=None, right=None):\n",
    "        self.char=char\n",
    "        self.freq=freq\n",
    "        self.left=left\n",
    "        self.right=right\n",
    "        self.direction=\"\"\n",
    "    def __lt__(self, other):\n",
    "        return self.freq<other.freq\n",
    "class Huffman:\n",
    "    \"\"\"\n",
    "    Huffman coding algorithm\n",
    "    \"\"\"\n",
    "    def __init__(self):\n",
    "        pass\n",
    "    def encode(self, data):\n",
    "        \"\"\"\n",
    "        Huffman encode\n",
    "        \"\"\"\n",
    "        frequencies=self.frequency(data)\n",
    "        nodes=[]\n",
    "        for k,v in frequencies.items():\n",
    "            heappush(nodes,Node(v,k))\n",
    "        while len(nodes)!=1:\n",
    "            nodes.sort(key=lambda x:x.freq)\n",
    "            left=heappop(nodes)\n",
    "            right=heappop(nodes)\n",
    "            left.direction=\"0\"\n",
    "            right.direction=\"1\"\n",
    "            heappush(nodes,Node(left.freq+right.freq, left.char+right.char, left, right))\n",
    "        codes=dict(sorted(self.build_tree(nodes[0]).items(), key=lambda x:x[1],reverse=True))\n",
    "        encoded_data=''.join(list(map(lambda x:codes[x], data)))\n",
    "        return encoded_data,codes\n",
    "    def build_tree(self, node, code=\"\"):\n",
    "        \"\"\"\n",
    "        Build huffman tree\n",
    "        \"\"\"\n",
    "        codes={}\n",
    "        code+=node.direction\n",
    "        if node.left:\n",
    "            left=self.build_tree(node.left, code)\n",
    "            codes.update(left)\n",
    "        if node.right:\n",
    "            right=self.build_tree(node.right, code)\n",
    "            codes.update(right)\n",
    "        if not node.left and not node.right:\n",
    "            codes[node.char]=code\n",
    "        return codes\n",
    "\n",
    "    def frequency(self, data):\n",
    "        \"\"\"\n",
    "        Find each char's frequency\n",
    "        \"\"\"\n",
    "        freq={}\n",
    "        for i in set(data):\n",
    "            freq[i]=data.count(i)\n",
    "        return freq\n",
    "    def decode(self, data, dictionary):\n",
    "        \"\"\"\n",
    "        Huffman decode\n",
    "        \"\"\"\n",
    "        decoded_data=\"\"\n",
    "        tmp=\"\"\n",
    "        for char in data:\n",
    "            tmp+=char\n",
    "            if tmp in dictionary.values():\n",
    "                decoded_data+=list(dictionary.keys())[list(dictionary.values()).index(tmp)]\n",
    "                tmp=\"\"\n",
    "        return decoded_data\n",
    "    @staticmethod\n",
    "    def calculate_compression(compressed_data, original_data):\n",
    "        \"\"\"\n",
    "        Calculate compression ratio\n",
    "        \"\"\"\n",
    "        return (8*len(original_data))/len(compressed_data)*100"
   ]
  },
  {
   "cell_type": "code",
   "execution_count": 3,
   "metadata": {},
   "outputs": [
    {
     "name": "stdout",
     "output_type": "stream",
     "text": [
      "('01111100', {'a': '1', 'd': '01', 'b': '00'})\n",
      "daaaab\n",
      "600.0\n",
      "01111100 daaaab\n",
      "158.59497491671505\n",
      "True\n"
     ]
    }
   ],
   "source": [
    "g=Huffman()\n",
    "data=\"daaaab\"\n",
    "print(g.encode(data))\n",
    "print(g.decode(*g.encode(data)))\n",
    "print(Huffman.calculate_compression(g.encode(data)[0], data))\n",
    "print(g.encode(data)[0],data)\n",
    "encoded=g.encode(eneida)\n",
    "print(Huffman.calculate_compression(encoded[0], eneida))\n",
    "print(g.decode(*encoded)==eneida)"
   ]
  },
  {
   "cell_type": "code",
   "execution_count": 20,
   "metadata": {},
   "outputs": [
    {
     "name": "stderr",
     "output_type": "stream",
     "text": [
      "100%|██████████| 5/5 [00:00<00:00, 17.10it/s]"
     ]
    },
    {
     "name": "stdout",
     "output_type": "stream",
     "text": [
      "[0, 2.6178359985351562e-05, 0.00016055107116699218, 0.00033338069915771483, 0.0009251832962036133, 0.008001279830932618]\n",
      "[0, 10, 100, 1000, 10000, 100000]\n"
     ]
    },
    {
     "name": "stderr",
     "output_type": "stream",
     "text": [
      "\n"
     ]
    },
    {
     "data": {
      "image/png": "[encoded data removed]",
      "text/plain": [
       "<Figure size 640x480 with 1 Axes>"
      ]
     },
     "metadata": {},
     "output_type": "display_data"
    }
   ],
   "source": [
    "test_multiple([g.encode], [10,100,1000,10000,100000], 10, SYMBOLS, [\"Huffman encode\"])"
   ]
  },
  {
   "cell_type": "code",
   "execution_count": 24,
   "metadata": {},
   "outputs": [
    {
     "name": "stderr",
     "output_type": "stream",
     "text": [
      "100%|██████████| 3/3 [00:41<00:00, 13.80s/it]"
     ]
    },
    {
     "name": "stdout",
     "output_type": "stream",
     "text": [
      "[0, 0.07710559368133545, 0.3861961841583252, 0.7986754417419434]\n",
      "[0, 1000000, 5000000, 10000000]\n"
     ]
    },
    {
     "name": "stderr",
     "output_type": "stream",
     "text": [
      "\n"
     ]
    },
    {
     "data": {
      "image/png": "[encoded data removed]",
      "text/plain": [
       "<Figure size 640x480 with 1 Axes>"
      ]
     },
     "metadata": {},
     "output_type": "display_data"
    }
   ],
   "source": [
    "test_multiple([g.encode], [1000000, 5000000, 10000000], 10, SYMBOLS, [\"Huffman decode\"])"
   ]
  },
  {
   "cell_type": "markdown",
   "metadata": {},
   "source": [
    "# Алгоритм LZW"
   ]
  },
  {
   "cell_type": "markdown",
   "metadata": {},
   "source": [
    "# Алгоритм LZ77\n"
   ]
  },
  {
   "cell_type": "code",
   "execution_count": 4,
   "metadata": {},
   "outputs": [],
   "source": [
    "class Lz77:\n",
    "    \"\"\"\n",
    "    Lz77 coding alghorithm\n",
    "    \"\"\"\n",
    "    def __init__(self, buffer):\n",
    "        self.buffer_size=buffer\n",
    "    def encode(self, data):\n",
    "        \"\"\"\n",
    "        Encode a string using lz77\n",
    "        \"\"\"\n",
    "        codings=[]\n",
    "        buffer=\"\"\n",
    "        while len(data)!=0:\n",
    "            match,ind=self.find_best_match(data,buffer)\n",
    "            if match:\n",
    "                data=data[len(match):]\n",
    "                codings.append((ind,len(match),data[0] if data else \"\"))\n",
    "                buffer+=match+data[0] if data else match\n",
    "                buffer=buffer[-self.buffer_size:]\n",
    "                data=data[1:]\n",
    "            else:\n",
    "                codings.append((0,0,data[0]))\n",
    "                buffer+=data[0]\n",
    "                buffer=buffer[-self.buffer_size:]\n",
    "                data=data[1:]\n",
    "        return codings\n",
    "    def find_best_match(self, data, buffer):\n",
    "        \"\"\"\n",
    "        Finds longest match between data and buffer\n",
    "        \"\"\"\n",
    "        if not data or not buffer:\n",
    "            return \"\",None\n",
    "        _match=\"\"\n",
    "        max_ind=0\n",
    "        if buffer==data[:len(buffer)]:\n",
    "            for i,el in enumerate(data):\n",
    "                if el==buffer[i%len(buffer)]:\n",
    "                    _match+=el\n",
    "                else:\n",
    "                    break\n",
    "            return _match, len(buffer)\n",
    "        for i,el in enumerate(buffer):\n",
    "            curr_match=\"\"\n",
    "            if el==data[0]:\n",
    "                curr_match=el\n",
    "                ind=0\n",
    "                for j in range(i+1,len(buffer)):\n",
    "                    ind+=1\n",
    "                    if ind+1<=len(data) and data[ind]==buffer[j]:\n",
    "                        curr_match+=data[ind]\n",
    "                    else:\n",
    "                        break\n",
    "                if len(curr_match)>len(_match):\n",
    "                    _match=curr_match\n",
    "                    max_ind=i\n",
    "        return _match, len(buffer)-max_ind\n",
    "\n",
    "    def decode(self, data):\n",
    "        \"\"\"\n",
    "        Decode a string using lz77\n",
    "        \"\"\"\n",
    "        msg=\"\"\n",
    "        for el in data:\n",
    "            if el[0]==0:\n",
    "                msg+=el[2]\n",
    "            else:\n",
    "                if el[1]>el[0]:\n",
    "                    div=el[1]//el[0]\n",
    "                    mod=el[1]%el[0]\n",
    "                    msg+=msg[-el[0]:]*div+msg[-el[0]:-el[0]+mod]\n",
    "                    el=el[0],el[1]%el[0],el[2]\n",
    "                msg+=msg[-el[0]:len(msg)-el[0]+el[1]]+el[2]\n",
    "        return msg\n",
    "    @staticmethod\n",
    "    def calculate_compression(encoded, original):\n",
    "        \"\"\"\n",
    "        Calculate compression ratio\n",
    "        (4 bits for distance, 4 bits for length, 8 bits for char)*len / (8 bits for char)*len\n",
    "        \"\"\"\n",
    "        encoded_len=0\n",
    "        for o,d,c in encoded:\n",
    "            encoded_len+=len(bin(o))-2+len(bin(d))-2+8\n",
    "        return len(original)*8/encoded_len*100"
   ]
  },
  {
   "cell_type": "markdown",
   "metadata": {},
   "source": [
    "Алгоритм LZ77 працює наступним чином:\n",
    "1) У нього є якесь вікно (текст, який треба закодувати, іноді його обмежують по довжині, але в нашому випадку) він не обмежується.  \n",
    "2) У нього є буфер, який є обмеженим.\n",
    "3) Ми перебігаєм по елементам вікна. Якщо цей елемент є у буфері, ми з нього починаємо шукати інші символи, які метчаться. Робимо так, поки не переберем всі елементи.\n",
    "4) Зрештою, записуємо найдовший метч у буфер та кодуємо його триплетом (Offset, Distance, Char), де Offset - відстань символа в буфері, Distance - довжина метчу, char - символ, який закодували.\n",
    "\n",
    "<br>Так продовжуємо, допоки не переберемо всі символи."
   ]
  },
  {
   "cell_type": "markdown",
   "metadata": {},
   "source": [
    "### Тестування LZ77"
   ]
  },
  {
   "cell_type": "code",
   "execution_count": 38,
   "metadata": {},
   "outputs": [
    {
     "name": "stdout",
     "output_type": "stream",
     "text": [
      "True\n",
      "icanttakeitanymoreee\n",
      "True\n",
      "135.73573573573574\n",
      "True\n",
      "161.0730870405953\n"
     ]
    }
   ],
   "source": [
    "lz=Lz77(10000)\n",
    "msh=lz.encode(\"aababcabcabcabcabcabc\")\n",
    "print(lz.decode(msh)==\"aababcabcabcabcabcabc\")\n",
    "print(lz.decode(lz.encode(\"icanttakeitanymoreee\")))\n",
    "lorem_ipsum=\"\"\"\n",
    "Lorem ipsum dolor sit amet, consectetur adipiscing elit,\n",
    " sed do eiusmod tempor incididunt ut labore et dolore magna aliqua. Ut enim\n",
    " ad minim veniam, quis nostrud exercitation ullamco laboris nisi ut aliquip\n",
    " ex ea commodo consequat. Duis aute irure dolor in reprehenderit in voluptate\n",
    " velit esse cillum dolore eu fugiat nulla pariatur. Excepteur sint occaecat\n",
    " cupidatat non proident, sunt in culpa qui officia deserunt mollit anim id est laborum.\n",
    "\"\"\"\n",
    "print(lz.decode(lz.encode(lorem_ipsum))==lorem_ipsum)\n",
    "print(lz.calculate_compression(lz.encode(lorem_ipsum),lorem_ipsum))\n",
    "lz_encoded=lz.encode(eneida)\n",
    "print(lz.decode(lz_encoded)==eneida)\n",
    "print(lz.calculate_compression(lz_encoded,eneida))"
   ]
  },
  {
   "cell_type": "code",
   "execution_count": 26,
   "metadata": {},
   "outputs": [
    {
     "name": "stderr",
     "output_type": "stream",
     "text": [
      "100%|██████████| 3/3 [00:09<00:00,  3.20s/it]"
     ]
    },
    {
     "name": "stdout",
     "output_type": "stream",
     "text": [
      "[0, 7.51495361328125e-05, 0.0009114742279052734, 0.009275388717651368]\n",
      "[0, 100, 1000, 10000]\n"
     ]
    },
    {
     "name": "stderr",
     "output_type": "stream",
     "text": [
      "\n"
     ]
    },
    {
     "data": {
      "image/png": "[encoded data removed]",
      "text/plain": [
       "<Figure size 640x480 with 1 Axes>"
      ]
     },
     "metadata": {},
     "output_type": "display_data"
    }
   ],
   "source": [
    "test_multiple([Lz77(10).encode,Lz77(1000).encode,Lz77(10000).encode],[100,1000,10000],\\\n",
    "              10,SYMBOLS,[\"encode, buffer 10\", \"encode, buffer 1000\", \"encode, buffer 10000\"])"
   ]
  },
  {
   "cell_type": "markdown",
   "metadata": {},
   "source": [
    "# Алгоритм Deflate"
   ]
  },
  {
   "cell_type": "markdown",
   "metadata": {},
   "source": [
    "Цей алгоритм поєднує в собі два інші алгоритми кодування, задля кращого стиснення.  \n",
    "Спочатку, ми кодуємо повідомлення за Гаффмана та переводимо його у послідовності 0 та 1. Після цього, закодовуємо це повідомлення у триплети."
   ]
  },
  {
   "cell_type": "code",
   "execution_count": 57,
   "metadata": {},
   "outputs": [],
   "source": [
    "class Deflate:\n",
    "    def __init__(self, buffer_size: int):\n",
    "        self.buffer_size=buffer_size\n",
    "        self.lz=Lz77(buffer_size)\n",
    "        self.huffman=Huffman()\n",
    "\n",
    "    def encode(self, text: str) -> str:\n",
    "        msg,dictionary=self.huffman.encode(text)\n",
    "        msg=self.lz.encode(msg)\n",
    "        return msg, dictionary\n",
    "\n",
    "    def decode(self, code: str, dictionary: dict) -> str:\n",
    "        msg=self.lz.decode(code)\n",
    "        return self.huffman.decode(msg,dictionary)\n",
    "    \n",
    "    def calculate_compression(self, code: str, original: str) -> float:\n",
    "        return self.lz.calculate_compression(code, original)\n",
    "    "
   ]
  },
  {
   "cell_type": "code",
   "execution_count": 59,
   "metadata": {},
   "outputs": [
    {
     "name": "stdout",
     "output_type": "stream",
     "text": [
      "109.7065678914342\n"
     ]
    }
   ],
   "source": [
    "d=Deflate(10000)\n",
    "defflate_encoded=d.encode(eneida)\n",
    "print(d.calculate_compression(defflate_encoded[0],eneida))"
   ]
  }
 ],
 "metadata": {
  "kernelspec": {
   "display_name": "Python 3",
   "language": "python",
   "name": "python3"
  },
  "language_info": {
   "codemirror_mode": {
    "name": "ipython",
    "version": 3
   },
   "file_extension": ".py",
   "mimetype": "text/x-python",
   "name": "python",
   "nbconvert_exporter": "python",
   "pygments_lexer": "ipython3",
   "version": "3.11.7"
  }
 },
 "nbformat": 4,
 "nbformat_minor": 2
}
